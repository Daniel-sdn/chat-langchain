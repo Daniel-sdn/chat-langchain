{
 "cells": [
  {
   "cell_type": "markdown",
   "metadata": {},
   "source": [
    "# Self-querying Elasticsearch"
   ]
  },
  {
   "cell_type": "code",
   "execution_count": 1,
   "metadata": {},
   "outputs": [],
   "source": [
    "import os\n",
    "import openai\n",
    "openai.organization = \"org-guDH0aNEdRkxo8bOtlGqBstO\"\n",
    "openai.api_key = os.getenv(\"OPENAI_API_KEY\")"
   ]
  },
  {
   "cell_type": "code",
   "execution_count": 2,
   "metadata": {},
   "outputs": [],
   "source": [
    "from langchain.schema import Document\n",
    "from langchain.embeddings.openai import OpenAIEmbeddings\n",
    "from langchain.vectorstores import ElasticsearchStore\n",
    "import os\n",
    "\n",
    "#os.environ[\"OPENAI_API_KEY\"] = os.getenv(\"OPENAI_API_KEY\")\n",
    "\n",
    "embeddings = OpenAIEmbeddings()\n",
    "\n",
    "cloud_id=\"30457331e52649c39b16776f8d5bc137:dXMtY2VudHJhbDEuZ2NwLmNsb3VkLmVzLmlvJDJkODJmMzQ4OWQyMjQ4NmNiMWNjMzRhMzJkZTMwMjg3JDkzOWY5OWQxMzZhYTRiNWFiMTcxODg5YzE1OTNkMzdj\""
   ]
  },
  {
   "cell_type": "code",
   "execution_count": 3,
   "metadata": {},
   "outputs": [],
   "source": [
    "docs = [\n",
    "    Document(\n",
    "        page_content=\"Um grupo de cientistas traz dinossauros de volta e o caos se espalha\",\n",
    "        metadata={\"ano\": 1993, \"avaliacao\": 7.7, \"genero\": \"ficção científican\"},\n",
    "    ),\n",
    "    Document(\n",
    "        page_content=\"Leo DiCaprio se perde em um sonho dentro de um sonho dentro de um sonho dentro de um ...\",\n",
    "        metadata={\"ano\": 2010, \"diretor\": \"Christopher Nolan\", \"avaliacao\": 8.2},\n",
    "    ),\n",
    "    Document(\n",
    "        page_content=\"Um psicólogo/detetive se perde em uma série de sonhos dentro de sonhos dentro de sonhos e Inception reaproveitou a ideia\",\n",
    "        metadata={\"ano\": 2006, \"diretor\": \"Satoshi Kon\", \"avaliacao\": 8.6},\n",
    "    ),\n",
    "    Document(\n",
    "        page_content=\"Um grupo de mulheres de tamanho normal são extremamente saudáveis ​​e alguns homens anseiam por elas\",\n",
    "        metadata={\"ano\": 2019, \"diretor\": \"Greta Gerwig\", \"avaliacao\": 8.3, \"genero\": \"drama\"},\n",
    "    ),\n",
    "    Document(\n",
    "        page_content=\"Os brinquedos ganham vida e se divertem muito fazendo isso\",\n",
    "        metadata={\"ano\": 1995, \"genero\": \"animação\"},\n",
    "    ),    \n",
    "    Document(\n",
    "        page_content=\"Robert McCall se sente em casa no sul da Itália, mas descobre que seus amigos estão sob o controle do crime local. À medida que os eventos se tornam mortais, McCall sabe que deve tornar-se o protetor de seus amigos enfrentando a máfia.\",\n",
    "        metadata={\"ano\": 2023, \"diretor\": \"Antoine Fuqua\", \"genero\": \"ação\"},    \n",
    "    ),\n",
    "    Document(\n",
    "        page_content=\"Três homens entram na Zona, três homens saem da Zona\",\n",
    "        metadata={\n",
    "            \"ano\": 1979,\n",
    "            \"avaliacao\": 9.9,\n",
    "            \"diretor\": \"Andrei Tarkovsky\",\n",
    "            \"genero\": \"science fiction\",\n",
    "            \"avaliacao\": 9.9,\n",
    "        },\n",
    "    ),\n",
    "]\n",
    "\n",
    "i_name=\"elasticsearch-self-query-demo\"\n",
    "\n",
    "\n",
    "# Ajustamos a ElasticsearchStore para que use o cloud_id\n",
    "vectorstore = ElasticsearchStore.from_documents(\n",
    "    docs,\n",
    "    embedding=OpenAIEmbeddings(),\n",
    "    index_name=i_name,\n",
    "    es_cloud_id=cloud_id,\n",
    "    es_user=\"elastic\",\n",
    "    es_password='CcP7PB23XsWCSo0NKZbBfd5I'\n",
    ")"
   ]
  },
  {
   "cell_type": "markdown",
   "metadata": {},
   "source": [
    "## Creating our self-querying retriever\n",
    "<hr>"
   ]
  },
  {
   "cell_type": "markdown",
   "metadata": {},
   "source": [
    "Agora podemos instanciar nosso retriever. Para fazer isso, precisaremos fornecer algumas informações antecipadamente sobre os campos de metadados suportados pelos nossos documentos e uma breve descrição do conteúdo do documento."
   ]
  },
  {
   "cell_type": "code",
   "execution_count": 4,
   "metadata": {},
   "outputs": [],
   "source": [
    "from langchain.llms import OpenAI\n",
    "from langchain.retrievers.self_query.base import SelfQueryRetriever\n",
    "from langchain.chains.query_constructor.base import AttributeInfo\n",
    "\n",
    "metadata_field_info = [\n",
    "    AttributeInfo(\n",
    "        name=\"genero\",\n",
    "        description=\"O gênero do filme\",\n",
    "        type=\"string or list[string]\",\n",
    "    ),\n",
    "    AttributeInfo(\n",
    "        name=\"ano\",\n",
    "        description=\"O ano em que o filme foi lançado\",\n",
    "        type=\"integer\",\n",
    "    ),\n",
    "    AttributeInfo(\n",
    "        name=\"diretor\",\n",
    "        description=\"O nome do diretor do filme\",\n",
    "        type=\"string\",\n",
    "    ),\n",
    "    AttributeInfo(\n",
    "        name=\"avaliacao\", description=\"Uma classificação de 1 a 10 para o filme\", type=\"float\"\n",
    "    ),\n",
    "]\n"
   ]
  },
  {
   "cell_type": "code",
   "execution_count": 5,
   "metadata": {},
   "outputs": [],
   "source": [
    "document_content_description = \"Breve resumo de um filme\"\n",
    "llm = OpenAI(temperature=0)\n",
    "retriever = SelfQueryRetriever.from_llm(\n",
    "    llm, vectorstore, document_content_description, metadata_field_info, verbose=True\n",
    ")"
   ]
  },
  {
   "cell_type": "code",
   "execution_count": 6,
   "metadata": {},
   "outputs": [
    {
     "name": "stderr",
     "output_type": "stream",
     "text": [
      "/home/dani-boy/.cache/pypoetry/virtualenvs/chat-langchain-kK18R945-py3.10/lib/python3.10/site-packages/langchain/chains/llm.py:280: UserWarning: The predict_and_parse method is deprecated, instead pass an output parser directly to LLMChain.\n",
      "  warnings.warn(\n"
     ]
    },
    {
     "name": "stdout",
     "output_type": "stream",
     "text": [
      "query='dinossauros' filter=None limit=None\n"
     ]
    },
    {
     "data": {
      "text/plain": [
       "[Document(page_content='Um grupo de cientistas traz dinossauros de volta e o caos se espalha', metadata={'ano': 1993, 'avaliacao': 7.7, 'genero': 'ficção científican'}),\n",
       " Document(page_content='Um grupo de cientistas traz dinossauros de volta e o caos se espalha', metadata={'ano': 1993, 'avaliacao': 7.7, 'genero': 'ficção científican'}),\n",
       " Document(page_content='Um grupo de cientistas traz dinossauros de volta e o caos se espalha', metadata={'ano': 1993, 'avaliacao': 7.7, 'genero': 'ficção científican'}),\n",
       " Document(page_content='Os brinquedos ganham vida e se divertem muito fazendo isso', metadata={'ano': 1995, 'genero': 'animação'})]"
      ]
     },
     "execution_count": 6,
     "metadata": {},
     "output_type": "execute_result"
    }
   ],
   "source": [
    "# This example only specifies a relevant query\n",
    "retriever.get_relevant_documents(\"Quais são alguns filmes sobre dinossauros\")"
   ]
  },
  {
   "cell_type": "code",
   "execution_count": 7,
   "metadata": {},
   "outputs": [
    {
     "name": "stdout",
     "output_type": "stream",
     "text": [
      "query='mulheres' filter=Comparison(comparator=<Comparator.EQ: 'eq'>, attribute='diretor', value='Greta Gerwig') limit=None\n"
     ]
    },
    {
     "data": {
      "text/plain": [
       "[Document(page_content='Um grupo de mulheres de tamanho normal são extremamente saudáveis \\u200b\\u200be alguns homens anseiam por elas', metadata={'ano': 2019, 'diretor': 'Greta Gerwig', 'avaliacao': 8.3, 'genero': 'drama'}),\n",
       " Document(page_content='Um grupo de mulheres de tamanho normal são extremamente saudáveis \\u200b\\u200be alguns homens anseiam por elas', metadata={'ano': 2019, 'diretor': 'Greta Gerwig', 'avaliacao': 8.3, 'genero': 'drama'}),\n",
       " Document(page_content='Um grupo de mulheres de tamanho normal são extremamente saudáveis \\u200b\\u200be alguns homens anseiam por elas', metadata={'ano': 2019, 'diretor': 'Greta Gerwig', 'avaliacao': 8.3, 'genero': 'drama'})]"
      ]
     },
     "execution_count": 7,
     "metadata": {},
     "output_type": "execute_result"
    }
   ],
   "source": [
    "# This example specifies a query and a filter\n",
    "retriever.get_relevant_documents(\"Greta Gerwig dirigiu algum filme sobre mulheres\")"
   ]
  },
  {
   "cell_type": "code",
   "execution_count": 8,
   "metadata": {},
   "outputs": [
    {
     "name": "stdout",
     "output_type": "stream",
     "text": [
      "query='crimes Itália' filter=None limit=None\n"
     ]
    },
    {
     "data": {
      "text/plain": [
       "[Document(page_content='Robert McCall se sente em casa no sul da Itália, mas descobre que seus amigos estão sob o controle do crime local. À medida que os eventos se tornam mortais, McCall sabe que deve tornar-se o protetor de seus amigos enfrentando a máfia.', metadata={'ano': 2023, 'diretor': 'Antoine Fuqua', 'genero': 'ação'}),\n",
       " Document(page_content='Robert McCall se sente em casa no sul da Itália, mas descobre que seus amigos estão sob o controle do crime local. À medida que os eventos se tornam mortais, McCall sabe que deve tornar-se o protetor de seus amigos enfrentando a máfia.', metadata={'ano': 2023, 'diretor': 'Antoine Fuqua', 'genero': 'ação'}),\n",
       " Document(page_content='Robert McCall se sente em casa no sul da Itália, mas descobre que seus amigos estão sob o controle do crime local. À medida que os eventos se tornam mortais, McCall sabe que deve tornar-se o protetor de seus amigos enfrentando a máfia.', metadata={'ano': 2023, 'diretor': 'Antoine Fuqua', 'genero': 'ação'}),\n",
       " Document(page_content='Três homens entram na Zona, três homens saem da Zona', metadata={'ano': 1979, 'avaliacao': 9.9, 'diretor': 'Andrei Tarkovsky', 'genero': 'science fiction'})]"
      ]
     },
     "execution_count": 8,
     "metadata": {},
     "output_type": "execute_result"
    }
   ],
   "source": [
    "# This example specifies a query and a filter\n",
    "retriever.get_relevant_documents(\"Que file aborda crimes na Itália\")"
   ]
  },
  {
   "cell_type": "markdown",
   "metadata": {},
   "source": [
    "## Filter k\n",
    "<hr>"
   ]
  },
  {
   "cell_type": "markdown",
   "metadata": {},
   "source": [
    "Também podemos usar o recuperador de autoconsulta para especificar k: o número de documentos a serem buscados.\n",
    "\n",
    "Podemos fazer isso passando enable_limit=True para o construtor."
   ]
  },
  {
   "cell_type": "code",
   "execution_count": 9,
   "metadata": {},
   "outputs": [],
   "source": [
    "retriever = SelfQueryRetriever.from_llm(\n",
    "    llm,\n",
    "    vectorstore,\n",
    "    document_content_description,\n",
    "    metadata_field_info,\n",
    "    enable_limit=True,\n",
    "    verbose=True,\n",
    ")"
   ]
  },
  {
   "cell_type": "code",
   "execution_count": 10,
   "metadata": {},
   "outputs": [
    {
     "name": "stdout",
     "output_type": "stream",
     "text": [
      "query='dinossauros' filter=None limit=2\n"
     ]
    },
    {
     "data": {
      "text/plain": [
       "[Document(page_content='Um grupo de cientistas traz dinossauros de volta e o caos se espalha', metadata={'ano': 1993, 'avaliacao': 7.7, 'genero': 'ficção científican'}),\n",
       " Document(page_content='Um grupo de cientistas traz dinossauros de volta e o caos se espalha', metadata={'ano': 1993, 'avaliacao': 7.7, 'genero': 'ficção científican'})]"
      ]
     },
     "execution_count": 10,
     "metadata": {},
     "output_type": "execute_result"
    }
   ],
   "source": [
    "# This example only specifies a relevant query\n",
    "retriever.get_relevant_documents(\"quais são dois filmes sobre dinossauros\")"
   ]
  },
  {
   "cell_type": "code",
   "execution_count": 11,
   "metadata": {},
   "outputs": [
    {
     "name": "stdout",
     "output_type": "stream",
     "text": [
      "query='crimes no sul da Itália' filter=None limit=None\n"
     ]
    }
   ],
   "source": [
    "# This example specifies a query and a filter\n",
    "resultado = retriever.get_relevant_documents(\"Que filme aborda crimes no sul da Itália\")"
   ]
  },
  {
   "cell_type": "code",
   "execution_count": 12,
   "metadata": {},
   "outputs": [
    {
     "data": {
      "text/plain": [
       "Document(page_content='Robert McCall se sente em casa no sul da Itália, mas descobre que seus amigos estão sob o controle do crime local. À medida que os eventos se tornam mortais, McCall sabe que deve tornar-se o protetor de seus amigos enfrentando a máfia.', metadata={'ano': 2023, 'diretor': 'Antoine Fuqua', 'genero': 'ação'})"
      ]
     },
     "execution_count": 12,
     "metadata": {},
     "output_type": "execute_result"
    }
   ],
   "source": [
    "resultado[0]"
   ]
  },
  {
   "cell_type": "markdown",
   "metadata": {},
   "source": [
    "## Complex queries in Action!\n",
    "<hr>"
   ]
  },
  {
   "cell_type": "markdown",
   "metadata": {},
   "source": [
    "Tentamos algumas consultas simples, mas e as mais complexas? Vamos testar algumas consultas mais complexas que utilizam todo o poder do Elasticsearch."
   ]
  },
  {
   "cell_type": "code",
   "execution_count": 13,
   "metadata": {},
   "outputs": [
    {
     "name": "stdout",
     "output_type": "stream",
     "text": [
      "query='brinquedos animados' filter=Operation(operator=<Operator.AND: 'and'>, arguments=[Operation(operator=<Operator.OR: 'or'>, arguments=[Comparison(comparator=<Comparator.EQ: 'eq'>, attribute='genero', value='animação'), Comparison(comparator=<Comparator.EQ: 'eq'>, attribute='genero', value='comédia')]), Comparison(comparator=<Comparator.GTE: 'gte'>, attribute='ano', value=1990)]) limit=None\n"
     ]
    },
    {
     "data": {
      "text/plain": [
       "[Document(page_content='Os brinquedos ganham vida e se divertem muito fazendo isso', metadata={'ano': 1995, 'genero': 'animação'})]"
      ]
     },
     "execution_count": 13,
     "metadata": {},
     "output_type": "execute_result"
    }
   ],
   "source": [
    "retriever.get_relevant_documents(\"quais filmes de animação ou comédia foram lançados nos últimos 30 anos sobre brinquedos animados?\")"
   ]
  },
  {
   "cell_type": "code",
   "execution_count": 14,
   "metadata": {},
   "outputs": [
    {
     "name": "stdout",
     "output_type": "stream",
     "text": [
      "query=' ' filter=Operation(operator=<Operator.AND: 'and'>, arguments=[Operation(operator=<Operator.OR: 'or'>, arguments=[Comparison(comparator=<Comparator.EQ: 'eq'>, attribute='genero', value='drama'), Comparison(comparator=<Comparator.EQ: 'eq'>, attribute='genero', value='ação')]), Comparison(comparator=<Comparator.GTE: 'gte'>, attribute='ano', value=2016)]) limit=None\n"
     ]
    },
    {
     "data": {
      "text/plain": [
       "[Document(page_content='Robert McCall se sente em casa no sul da Itália, mas descobre que seus amigos estão sob o controle do crime local. À medida que os eventos se tornam mortais, McCall sabe que deve tornar-se o protetor de seus amigos enfrentando a máfia.', metadata={'ano': 2023, 'diretor': 'Antoine Fuqua', 'genero': 'ação'}),\n",
       " Document(page_content='Um grupo de mulheres de tamanho normal são extremamente saudáveis \\u200b\\u200be alguns homens anseiam por elas', metadata={'ano': 2019, 'diretor': 'Greta Gerwig', 'avaliacao': 8.3, 'genero': 'drama'})]"
      ]
     },
     "execution_count": 14,
     "metadata": {},
     "output_type": "execute_result"
    }
   ],
   "source": [
    "retriever.get_relevant_documents(\"quais filmes de drama ou ação  foram lançados nos últimos 4 anos?\")"
   ]
  },
  {
   "cell_type": "code",
   "execution_count": null,
   "metadata": {},
   "outputs": [],
   "source": [
    "vectorstore.client.indices.delete(index=\"elasticsearch-self-query-demo\")"
   ]
  },
  {
   "cell_type": "code",
   "execution_count": null,
   "metadata": {},
   "outputs": [],
   "source": []
  }
 ],
 "metadata": {
  "kernelspec": {
   "display_name": "chat-langchain-ANOobOI--py3.10",
   "language": "python",
   "name": "python3"
  },
  "language_info": {
   "codemirror_mode": {
    "name": "ipython",
    "version": 3
   },
   "file_extension": ".py",
   "mimetype": "text/x-python",
   "name": "python",
   "nbconvert_exporter": "python",
   "pygments_lexer": "ipython3",
   "version": "3.10.12"
  }
 },
 "nbformat": 4,
 "nbformat_minor": 2
}
